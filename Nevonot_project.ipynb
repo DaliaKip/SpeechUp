{
 "cells": [
  {
   "cell_type": "code",
   "execution_count": 34,
   "metadata": {
    "colab": {
     "base_uri": "https://localhost:8080/"
    },
    "id": "NrybTXVJC0BE",
    "outputId": "327bbc3e-7eab-4ba8-ac62-117458f81866"
   },
   "outputs": [
    {
     "name": "stdout",
     "output_type": "stream",
     "text": [
      "Requirement already satisfied: praw in c:\\users\\dalia\\anaconda3\\lib\\site-packages (7.7.1)\n",
      "Requirement already satisfied: prawcore<3,>=2.1 in c:\\users\\dalia\\anaconda3\\lib\\site-packages (from praw) (2.4.0)\n",
      "Requirement already satisfied: websocket-client>=0.54.0 in c:\\users\\dalia\\anaconda3\\lib\\site-packages (from praw) (0.58.0)\n",
      "Requirement already satisfied: update-checker>=0.18 in c:\\users\\dalia\\anaconda3\\lib\\site-packages (from praw) (0.18.0)\n",
      "Requirement already satisfied: requests<3.0,>=2.6.0 in c:\\users\\dalia\\anaconda3\\lib\\site-packages (from prawcore<3,>=2.1->praw) (2.28.1)\n",
      "Requirement already satisfied: six in c:\\users\\dalia\\anaconda3\\lib\\site-packages (from websocket-client>=0.54.0->praw) (1.16.0)\n",
      "Requirement already satisfied: idna<4,>=2.5 in c:\\users\\dalia\\anaconda3\\lib\\site-packages (from requests<3.0,>=2.6.0->prawcore<3,>=2.1->praw) (3.3)\n",
      "Requirement already satisfied: certifi>=2017.4.17 in c:\\users\\dalia\\anaconda3\\lib\\site-packages (from requests<3.0,>=2.6.0->prawcore<3,>=2.1->praw) (2022.9.24)\n",
      "Requirement already satisfied: urllib3<1.27,>=1.21.1 in c:\\users\\dalia\\anaconda3\\lib\\site-packages (from requests<3.0,>=2.6.0->prawcore<3,>=2.1->praw) (1.26.11)\n",
      "Requirement already satisfied: charset-normalizer<3,>=2 in c:\\users\\dalia\\anaconda3\\lib\\site-packages (from requests<3.0,>=2.6.0->prawcore<3,>=2.1->praw) (2.0.4)\n"
     ]
    }
   ],
   "source": [
    "!pip install praw"
   ]
  },
  {
   "cell_type": "code",
   "execution_count": 35,
   "metadata": {
    "colab": {
     "base_uri": "https://localhost:8080/"
    },
    "id": "kbVFNFGvDQLw",
    "outputId": "00f810cc-a45d-40ee-8929-d777fb0e6f37"
   },
   "outputs": [
    {
     "name": "stdout",
     "output_type": "stream",
     "text": [
      "Requirement already satisfied: nltk in c:\\users\\dalia\\anaconda3\\lib\\site-packages (3.7)\n",
      "Requirement already satisfied: click in c:\\users\\dalia\\anaconda3\\lib\\site-packages (from nltk) (8.0.4)\n",
      "Requirement already satisfied: tqdm in c:\\users\\dalia\\anaconda3\\lib\\site-packages (from nltk) (4.64.1)\n",
      "Requirement already satisfied: regex>=2021.8.3 in c:\\users\\dalia\\anaconda3\\lib\\site-packages (from nltk) (2022.7.9)\n",
      "Requirement already satisfied: joblib in c:\\users\\dalia\\anaconda3\\lib\\site-packages (from nltk) (1.1.0)\n",
      "Requirement already satisfied: colorama in c:\\users\\dalia\\anaconda3\\lib\\site-packages (from click->nltk) (0.4.5)\n"
     ]
    }
   ],
   "source": [
    "!pip install nltk"
   ]
  },
  {
   "cell_type": "code",
   "execution_count": 36,
   "metadata": {
    "colab": {
     "base_uri": "https://localhost:8080/"
    },
    "id": "2ho6yqFlMSWM",
    "outputId": "7418704c-fc5b-4122-f51d-f8114c1fbd48"
   },
   "outputs": [
    {
     "name": "stdout",
     "output_type": "stream",
     "text": [
      "Requirement already satisfied: openai in c:\\users\\dalia\\anaconda3\\lib\\site-packages (1.14.3)\n",
      "Requirement already satisfied: tqdm>4 in c:\\users\\dalia\\anaconda3\\lib\\site-packages (from openai) (4.64.1)\n",
      "Requirement already satisfied: anyio<5,>=3.5.0 in c:\\users\\dalia\\anaconda3\\lib\\site-packages (from openai) (3.5.0)\n",
      "Requirement already satisfied: sniffio in c:\\users\\dalia\\anaconda3\\lib\\site-packages (from openai) (1.2.0)\n",
      "Requirement already satisfied: pydantic<3,>=1.9.0 in c:\\users\\dalia\\anaconda3\\lib\\site-packages (from openai) (2.6.4)\n",
      "Requirement already satisfied: typing-extensions<5,>=4.7 in c:\\users\\dalia\\anaconda3\\lib\\site-packages (from openai) (4.10.0)\n",
      "Requirement already satisfied: distro<2,>=1.7.0 in c:\\users\\dalia\\anaconda3\\lib\\site-packages (from openai) (1.9.0)\n",
      "Requirement already satisfied: httpx<1,>=0.23.0 in c:\\users\\dalia\\anaconda3\\lib\\site-packages (from openai) (0.27.0)\n",
      "Requirement already satisfied: idna>=2.8 in c:\\users\\dalia\\anaconda3\\lib\\site-packages (from anyio<5,>=3.5.0->openai) (3.3)\n",
      "Requirement already satisfied: httpcore==1.* in c:\\users\\dalia\\anaconda3\\lib\\site-packages (from httpx<1,>=0.23.0->openai) (1.0.4)\n",
      "Requirement already satisfied: certifi in c:\\users\\dalia\\anaconda3\\lib\\site-packages (from httpx<1,>=0.23.0->openai) (2022.9.24)\n",
      "Requirement already satisfied: h11<0.15,>=0.13 in c:\\users\\dalia\\anaconda3\\lib\\site-packages (from httpcore==1.*->httpx<1,>=0.23.0->openai) (0.14.0)\n",
      "Requirement already satisfied: annotated-types>=0.4.0 in c:\\users\\dalia\\anaconda3\\lib\\site-packages (from pydantic<3,>=1.9.0->openai) (0.6.0)\n",
      "Requirement already satisfied: pydantic-core==2.16.3 in c:\\users\\dalia\\anaconda3\\lib\\site-packages (from pydantic<3,>=1.9.0->openai) (2.16.3)\n",
      "Requirement already satisfied: colorama in c:\\users\\dalia\\anaconda3\\lib\\site-packages (from tqdm>4->openai) (0.4.5)\n"
     ]
    }
   ],
   "source": [
    "!pip install openai"
   ]
  },
  {
   "cell_type": "code",
   "execution_count": 37,
   "metadata": {},
   "outputs": [
    {
     "name": "stdout",
     "output_type": "stream",
     "text": [
      "Requirement already satisfied: ipywidgets in c:\\users\\dalia\\anaconda3\\lib\\site-packages (7.6.5)\n",
      "Requirement already satisfied: traitlets>=4.3.1 in c:\\users\\dalia\\anaconda3\\lib\\site-packages (from ipywidgets) (5.1.1)\n",
      "Requirement already satisfied: ipython>=4.0.0 in c:\\users\\dalia\\anaconda3\\lib\\site-packages (from ipywidgets) (7.31.1)\n",
      "Requirement already satisfied: jupyterlab-widgets>=1.0.0 in c:\\users\\dalia\\anaconda3\\lib\\site-packages (from ipywidgets) (1.0.0)\n",
      "Requirement already satisfied: ipython-genutils~=0.2.0 in c:\\users\\dalia\\anaconda3\\lib\\site-packages (from ipywidgets) (0.2.0)\n",
      "Requirement already satisfied: nbformat>=4.2.0 in c:\\users\\dalia\\anaconda3\\lib\\site-packages (from ipywidgets) (5.5.0)\n",
      "Requirement already satisfied: widgetsnbextension~=3.5.0 in c:\\users\\dalia\\anaconda3\\lib\\site-packages (from ipywidgets) (3.5.2)\n",
      "Requirement already satisfied: ipykernel>=4.5.1 in c:\\users\\dalia\\anaconda3\\lib\\site-packages (from ipywidgets) (6.15.2)\n",
      "Requirement already satisfied: debugpy>=1.0 in c:\\users\\dalia\\anaconda3\\lib\\site-packages (from ipykernel>=4.5.1->ipywidgets) (1.5.1)\n",
      "Requirement already satisfied: packaging in c:\\users\\dalia\\anaconda3\\lib\\site-packages (from ipykernel>=4.5.1->ipywidgets) (21.3)\n",
      "Requirement already satisfied: matplotlib-inline>=0.1 in c:\\users\\dalia\\anaconda3\\lib\\site-packages (from ipykernel>=4.5.1->ipywidgets) (0.1.6)\n",
      "Requirement already satisfied: psutil in c:\\users\\dalia\\anaconda3\\lib\\site-packages (from ipykernel>=4.5.1->ipywidgets) (5.9.0)\n",
      "Requirement already satisfied: nest-asyncio in c:\\users\\dalia\\anaconda3\\lib\\site-packages (from ipykernel>=4.5.1->ipywidgets) (1.5.5)\n",
      "Requirement already satisfied: jupyter-client>=6.1.12 in c:\\users\\dalia\\anaconda3\\lib\\site-packages (from ipykernel>=4.5.1->ipywidgets) (7.3.4)\n",
      "Requirement already satisfied: pyzmq>=17 in c:\\users\\dalia\\anaconda3\\lib\\site-packages (from ipykernel>=4.5.1->ipywidgets) (23.2.0)\n",
      "Requirement already satisfied: tornado>=6.1 in c:\\users\\dalia\\anaconda3\\lib\\site-packages (from ipykernel>=4.5.1->ipywidgets) (6.1)\n",
      "Requirement already satisfied: backcall in c:\\users\\dalia\\anaconda3\\lib\\site-packages (from ipython>=4.0.0->ipywidgets) (0.2.0)\n",
      "Requirement already satisfied: jedi>=0.16 in c:\\users\\dalia\\anaconda3\\lib\\site-packages (from ipython>=4.0.0->ipywidgets) (0.18.1)\n",
      "Requirement already satisfied: pickleshare in c:\\users\\dalia\\anaconda3\\lib\\site-packages (from ipython>=4.0.0->ipywidgets) (0.7.5)\n",
      "Requirement already satisfied: setuptools>=18.5 in c:\\users\\dalia\\anaconda3\\lib\\site-packages (from ipython>=4.0.0->ipywidgets) (63.4.1)\n",
      "Requirement already satisfied: pygments in c:\\users\\dalia\\anaconda3\\lib\\site-packages (from ipython>=4.0.0->ipywidgets) (2.11.2)\n",
      "Requirement already satisfied: decorator in c:\\users\\dalia\\anaconda3\\lib\\site-packages (from ipython>=4.0.0->ipywidgets) (5.1.1)\n",
      "Requirement already satisfied: colorama in c:\\users\\dalia\\anaconda3\\lib\\site-packages (from ipython>=4.0.0->ipywidgets) (0.4.5)\n",
      "Requirement already satisfied: prompt-toolkit!=3.0.0,!=3.0.1,<3.1.0,>=2.0.0 in c:\\users\\dalia\\anaconda3\\lib\\site-packages (from ipython>=4.0.0->ipywidgets) (3.0.20)\n",
      "Requirement already satisfied: jsonschema>=2.6 in c:\\users\\dalia\\anaconda3\\lib\\site-packages (from nbformat>=4.2.0->ipywidgets) (4.16.0)\n",
      "Requirement already satisfied: jupyter_core in c:\\users\\dalia\\anaconda3\\lib\\site-packages (from nbformat>=4.2.0->ipywidgets) (4.11.1)\n",
      "Requirement already satisfied: fastjsonschema in c:\\users\\dalia\\anaconda3\\lib\\site-packages (from nbformat>=4.2.0->ipywidgets) (2.16.2)\n",
      "Requirement already satisfied: notebook>=4.4.1 in c:\\users\\dalia\\anaconda3\\lib\\site-packages (from widgetsnbextension~=3.5.0->ipywidgets) (6.4.12)\n",
      "Requirement already satisfied: parso<0.9.0,>=0.8.0 in c:\\users\\dalia\\anaconda3\\lib\\site-packages (from jedi>=0.16->ipython>=4.0.0->ipywidgets) (0.8.3)\n",
      "Requirement already satisfied: pyrsistent!=0.17.0,!=0.17.1,!=0.17.2,>=0.14.0 in c:\\users\\dalia\\anaconda3\\lib\\site-packages (from jsonschema>=2.6->nbformat>=4.2.0->ipywidgets) (0.18.0)\n",
      "Requirement already satisfied: attrs>=17.4.0 in c:\\users\\dalia\\anaconda3\\lib\\site-packages (from jsonschema>=2.6->nbformat>=4.2.0->ipywidgets) (21.4.0)\n",
      "Requirement already satisfied: entrypoints in c:\\users\\dalia\\anaconda3\\lib\\site-packages (from jupyter-client>=6.1.12->ipykernel>=4.5.1->ipywidgets) (0.4)\n",
      "Requirement already satisfied: python-dateutil>=2.8.2 in c:\\users\\dalia\\anaconda3\\lib\\site-packages (from jupyter-client>=6.1.12->ipykernel>=4.5.1->ipywidgets) (2.8.2)\n",
      "Requirement already satisfied: pywin32>=1.0 in c:\\users\\dalia\\anaconda3\\lib\\site-packages (from jupyter_core->nbformat>=4.2.0->ipywidgets) (302)\n",
      "Requirement already satisfied: prometheus-client in c:\\users\\dalia\\anaconda3\\lib\\site-packages (from notebook>=4.4.1->widgetsnbextension~=3.5.0->ipywidgets) (0.14.1)\n",
      "Requirement already satisfied: jinja2 in c:\\users\\dalia\\anaconda3\\lib\\site-packages (from notebook>=4.4.1->widgetsnbextension~=3.5.0->ipywidgets) (2.11.3)\n",
      "Requirement already satisfied: argon2-cffi in c:\\users\\dalia\\anaconda3\\lib\\site-packages (from notebook>=4.4.1->widgetsnbextension~=3.5.0->ipywidgets) (21.3.0)\n",
      "Requirement already satisfied: nbconvert>=5 in c:\\users\\dalia\\anaconda3\\lib\\site-packages (from notebook>=4.4.1->widgetsnbextension~=3.5.0->ipywidgets) (6.4.4)\n",
      "Requirement already satisfied: terminado>=0.8.3 in c:\\users\\dalia\\anaconda3\\lib\\site-packages (from notebook>=4.4.1->widgetsnbextension~=3.5.0->ipywidgets) (0.13.1)\n",
      "Requirement already satisfied: Send2Trash>=1.8.0 in c:\\users\\dalia\\anaconda3\\lib\\site-packages (from notebook>=4.4.1->widgetsnbextension~=3.5.0->ipywidgets) (1.8.0)\n",
      "Requirement already satisfied: wcwidth in c:\\users\\dalia\\anaconda3\\lib\\site-packages (from prompt-toolkit!=3.0.0,!=3.0.1,<3.1.0,>=2.0.0->ipython>=4.0.0->ipywidgets) (0.2.5)\n",
      "Requirement already satisfied: pyparsing!=3.0.5,>=2.0.2 in c:\\users\\dalia\\anaconda3\\lib\\site-packages (from packaging->ipykernel>=4.5.1->ipywidgets) (3.0.9)\n",
      "Requirement already satisfied: nbclient<0.6.0,>=0.5.0 in c:\\users\\dalia\\anaconda3\\lib\\site-packages (from nbconvert>=5->notebook>=4.4.1->widgetsnbextension~=3.5.0->ipywidgets) (0.5.13)\n",
      "Requirement already satisfied: jupyterlab-pygments in c:\\users\\dalia\\anaconda3\\lib\\site-packages (from nbconvert>=5->notebook>=4.4.1->widgetsnbextension~=3.5.0->ipywidgets) (0.1.2)\n",
      "Requirement already satisfied: mistune<2,>=0.8.1 in c:\\users\\dalia\\anaconda3\\lib\\site-packages (from nbconvert>=5->notebook>=4.4.1->widgetsnbextension~=3.5.0->ipywidgets) (0.8.4)\n",
      "Requirement already satisfied: testpath in c:\\users\\dalia\\anaconda3\\lib\\site-packages (from nbconvert>=5->notebook>=4.4.1->widgetsnbextension~=3.5.0->ipywidgets) (0.6.0)\n",
      "Requirement already satisfied: bleach in c:\\users\\dalia\\anaconda3\\lib\\site-packages (from nbconvert>=5->notebook>=4.4.1->widgetsnbextension~=3.5.0->ipywidgets) (4.1.0)\n",
      "Requirement already satisfied: pandocfilters>=1.4.1 in c:\\users\\dalia\\anaconda3\\lib\\site-packages (from nbconvert>=5->notebook>=4.4.1->widgetsnbextension~=3.5.0->ipywidgets) (1.5.0)\n",
      "Requirement already satisfied: beautifulsoup4 in c:\\users\\dalia\\anaconda3\\lib\\site-packages (from nbconvert>=5->notebook>=4.4.1->widgetsnbextension~=3.5.0->ipywidgets) (4.11.1)\n",
      "Requirement already satisfied: defusedxml in c:\\users\\dalia\\anaconda3\\lib\\site-packages (from nbconvert>=5->notebook>=4.4.1->widgetsnbextension~=3.5.0->ipywidgets) (0.7.1)\n",
      "Requirement already satisfied: MarkupSafe>=0.23 in c:\\users\\dalia\\anaconda3\\lib\\site-packages (from jinja2->notebook>=4.4.1->widgetsnbextension~=3.5.0->ipywidgets) (2.0.1)\n",
      "Requirement already satisfied: six>=1.5 in c:\\users\\dalia\\anaconda3\\lib\\site-packages (from python-dateutil>=2.8.2->jupyter-client>=6.1.12->ipykernel>=4.5.1->ipywidgets) (1.16.0)\n",
      "Requirement already satisfied: pywinpty>=1.1.0 in c:\\users\\dalia\\anaconda3\\lib\\site-packages (from terminado>=0.8.3->notebook>=4.4.1->widgetsnbextension~=3.5.0->ipywidgets) (2.0.2)\n",
      "Requirement already satisfied: argon2-cffi-bindings in c:\\users\\dalia\\anaconda3\\lib\\site-packages (from argon2-cffi->notebook>=4.4.1->widgetsnbextension~=3.5.0->ipywidgets) (21.2.0)\n",
      "Requirement already satisfied: cffi>=1.0.1 in c:\\users\\dalia\\anaconda3\\lib\\site-packages (from argon2-cffi-bindings->argon2-cffi->notebook>=4.4.1->widgetsnbextension~=3.5.0->ipywidgets) (1.15.1)\n",
      "Requirement already satisfied: soupsieve>1.2 in c:\\users\\dalia\\anaconda3\\lib\\site-packages (from beautifulsoup4->nbconvert>=5->notebook>=4.4.1->widgetsnbextension~=3.5.0->ipywidgets) (2.3.1)\n",
      "Requirement already satisfied: webencodings in c:\\users\\dalia\\anaconda3\\lib\\site-packages (from bleach->nbconvert>=5->notebook>=4.4.1->widgetsnbextension~=3.5.0->ipywidgets) (0.5.1)\n",
      "Requirement already satisfied: pycparser in c:\\users\\dalia\\anaconda3\\lib\\site-packages (from cffi>=1.0.1->argon2-cffi-bindings->argon2-cffi->notebook>=4.4.1->widgetsnbextension~=3.5.0->ipywidgets) (2.21)\n",
      "Note: you may need to restart the kernel to use updated packages.\n"
     ]
    }
   ],
   "source": [
    "pip install ipywidgets\n"
   ]
  },
  {
   "cell_type": "code",
   "execution_count": 38,
   "metadata": {
    "id": "S6ZCKhPsDLDG"
   },
   "outputs": [],
   "source": [
    "import praw\n",
    "import pandas as pd\n",
    "import re\n",
    "import datetime\n",
    "from tqdm import tqdm\n",
    "import os\n",
    "from openai import OpenAI\n",
    "import nltk"
   ]
  },
  {
   "cell_type": "code",
   "execution_count": 39,
   "metadata": {
    "colab": {
     "base_uri": "https://localhost:8080/"
    },
    "id": "pzHS7EMhabkL",
    "outputId": "170d2a74-600d-4af3-fdb8-d9bf4da01914"
   },
   "outputs": [
    {
     "name": "stderr",
     "output_type": "stream",
     "text": [
      "[nltk_data] Downloading package punkt to\n",
      "[nltk_data]     C:\\Users\\dalia\\AppData\\Roaming\\nltk_data...\n",
      "[nltk_data]   Package punkt is already up-to-date!\n"
     ]
    },
    {
     "data": {
      "text/plain": [
       "True"
      ]
     },
     "execution_count": 39,
     "metadata": {},
     "output_type": "execute_result"
    }
   ],
   "source": [
    "nltk.download('punkt')"
   ]
  },
  {
   "cell_type": "markdown",
   "metadata": {
    "id": "tGWj4ZNsH6od"
   },
   "source": [
    "scrape reddit data and build from it 'reddit_data_IsraelPalestine.csv' file"
   ]
  },
  {
   "cell_type": "code",
   "execution_count": 40,
   "metadata": {
    "id": "m6zaEg7fC0BF"
   },
   "outputs": [],
   "source": [
    "def remove_text_between_brackets(text):\n",
    "    pattern = r'\\[.*?\\]'\n",
    "    result = re.sub(pattern, '', text)\n",
    "    return result\n",
    "\n",
    "def num_words(text):\n",
    "    return len(text.split())\n",
    "\n",
    "\n",
    "def convert_utc_to_datetime(utc_time):\n",
    "    return datetime.datetime.utcfromtimestamp(utc_time).strftime('%d/%m/%y %H:%M:%S')\n",
    "\n",
    "def remove_text_after_x(text, x):\n",
    "    pattern = re.escape(x) + r'.*'\n",
    "    result = re.sub(pattern, '', text, flags=re.IGNORECASE)\n",
    "    return result\n",
    "\n",
    "def extract_data_from_comment(comment, prefix=None):\n",
    "    data = dict(comment_id=comment.id, comment_body=remove_text_after_x(comment.body, 'edit:'),\n",
    "                comment_date_time=convert_utc_to_datetime(comment.created), comment_score=comment.score)\n",
    "    if prefix is not None:\n",
    "        data = {f\"{prefix}_{k}\": v for k, v in data.items()}\n",
    "    return data\n",
    "\n",
    "def extract_data_from_post(post):\n",
    "    post_data = dict(post_id=post.id, title=remove_text_between_brackets(post.title),\n",
    "                     body=remove_text_after_x(post.selftext, 'edit:'), date_time=convert_utc_to_datetime(post.created),\n",
    "                     url=post.url, score=post.score, num_comments=post.num_comments, post_len = num_words(remove_text_after_x(post.selftext, 'edit:')))\n",
    "    return post_data"
   ]
  },
  {
   "cell_type": "code",
   "execution_count": 41,
   "metadata": {
    "id": "ROKkJxDHC0BF"
   },
   "outputs": [],
   "source": [
    "subrredit_str = 'IsraelPalestine'\n",
    "queries = ['Israel', 'Israeli', 'Palestine', 'Palestinian', 'Palestinians', 'Hamas', 'Oct 7', 'Oct 2023', 'Gaza']\n",
    "time_filters = ['all'] # ['all', 'year', 'month', 'week']\n",
    "sorts = ['top'] # ['top', 'relevance', 'new']"
   ]
  },
  {
   "cell_type": "code",
   "execution_count": 42,
   "metadata": {
    "id": "10y1F9juC0BF"
   },
   "outputs": [],
   "source": [
    "CLIENT_ID = 'e4m-_9FCjrOOKVVdo1SIBw'\n",
    "CLIENT_SECRET = 'LP_WMFy4Y8CanKvn1M5bppXayfwONA'\n",
    "USER_AGENT = 'Nevonot_project'  # just give it a name\n",
    "reddit = praw.Reddit(client_id=CLIENT_ID, client_secret=CLIENT_SECRET, user_agent=USER_AGENT)\n",
    "subrredit = reddit.subreddit(subrredit_str)"
   ]
  },
  {
   "cell_type": "code",
   "execution_count": 43,
   "metadata": {
    "colab": {
     "base_uri": "https://localhost:8080/",
     "height": 1000
    },
    "id": "uXFaSWI2DFp2",
    "outputId": "85bb9e25-c7f8-4ac2-93c8-40b8fb39a4c6"
   },
   "outputs": [
    {
     "name": "stdout",
     "output_type": "stream",
     "text": [
      "Israel all top\n",
      "num of sample under Israel symptom:  230\n"
     ]
    },
    {
     "name": "stderr",
     "output_type": "stream",
     "text": [
      "100%|██████████████████████████████████████████████████████████████████████████████| 230/230 [00:00<00:00, 7604.25it/s]"
     ]
    },
    {
     "name": "stdout",
     "output_type": "stream",
     "text": [
      "Israeli all top\n"
     ]
    },
    {
     "name": "stderr",
     "output_type": "stream",
     "text": [
      "\n"
     ]
    },
    {
     "name": "stdout",
     "output_type": "stream",
     "text": [
      "num of sample under Israeli symptom:  226\n"
     ]
    },
    {
     "name": "stderr",
     "output_type": "stream",
     "text": [
      "100%|██████████████████████████████████████████████████████████████████████████████| 226/226 [00:00<00:00, 9761.73it/s]"
     ]
    },
    {
     "name": "stdout",
     "output_type": "stream",
     "text": [
      "Palestine all top\n"
     ]
    },
    {
     "name": "stderr",
     "output_type": "stream",
     "text": [
      "\n"
     ]
    },
    {
     "name": "stdout",
     "output_type": "stream",
     "text": [
      "num of sample under Palestine symptom:  223\n"
     ]
    },
    {
     "name": "stderr",
     "output_type": "stream",
     "text": [
      "100%|██████████████████████████████████████████████████████████████████████████████| 223/223 [00:00<00:00, 8900.78it/s]"
     ]
    },
    {
     "name": "stdout",
     "output_type": "stream",
     "text": [
      "Palestinian all top\n"
     ]
    },
    {
     "name": "stderr",
     "output_type": "stream",
     "text": [
      "\n"
     ]
    },
    {
     "name": "stdout",
     "output_type": "stream",
     "text": [
      "num of sample under Palestinian symptom:  227\n"
     ]
    },
    {
     "name": "stderr",
     "output_type": "stream",
     "text": [
      "100%|█████████████████████████████████████████████████████████████████████████████| 227/227 [00:00<00:00, 10416.01it/s]"
     ]
    },
    {
     "name": "stdout",
     "output_type": "stream",
     "text": [
      "Palestinians all top\n"
     ]
    },
    {
     "name": "stderr",
     "output_type": "stream",
     "text": [
      "\n"
     ]
    },
    {
     "name": "stdout",
     "output_type": "stream",
     "text": [
      "num of sample under Palestinians symptom:  227\n"
     ]
    },
    {
     "name": "stderr",
     "output_type": "stream",
     "text": [
      "100%|██████████████████████████████████████████████████████████████████████████████| 227/227 [00:00<00:00, 9138.18it/s]"
     ]
    },
    {
     "name": "stdout",
     "output_type": "stream",
     "text": [
      "Hamas all top\n"
     ]
    },
    {
     "name": "stderr",
     "output_type": "stream",
     "text": [
      "\n"
     ]
    },
    {
     "name": "stdout",
     "output_type": "stream",
     "text": [
      "num of sample under Hamas symptom:  237\n"
     ]
    },
    {
     "name": "stderr",
     "output_type": "stream",
     "text": [
      "100%|█████████████████████████████████████████████████████████████████████████████| 237/237 [00:00<00:00, 10350.27it/s]"
     ]
    },
    {
     "name": "stdout",
     "output_type": "stream",
     "text": [
      "Oct 7 all top\n"
     ]
    },
    {
     "name": "stderr",
     "output_type": "stream",
     "text": [
      "\n"
     ]
    },
    {
     "name": "stdout",
     "output_type": "stream",
     "text": [
      "num of sample under Oct 7 symptom:  240\n"
     ]
    },
    {
     "name": "stderr",
     "output_type": "stream",
     "text": [
      "100%|██████████████████████████████████████████████████████████████████████████████| 240/240 [00:00<00:00, 6120.24it/s]"
     ]
    },
    {
     "name": "stdout",
     "output_type": "stream",
     "text": [
      "Oct 2023 all top\n"
     ]
    },
    {
     "name": "stderr",
     "output_type": "stream",
     "text": [
      "\n"
     ]
    },
    {
     "name": "stdout",
     "output_type": "stream",
     "text": [
      "num of sample under Oct 2023 symptom:  108\n"
     ]
    },
    {
     "name": "stderr",
     "output_type": "stream",
     "text": [
      "100%|██████████████████████████████████████████████████████████████████████████████| 108/108 [00:00<00:00, 4144.61it/s]"
     ]
    },
    {
     "name": "stdout",
     "output_type": "stream",
     "text": [
      "Gaza all top\n"
     ]
    },
    {
     "name": "stderr",
     "output_type": "stream",
     "text": [
      "\n"
     ]
    },
    {
     "name": "stdout",
     "output_type": "stream",
     "text": [
      "num of sample under Gaza symptom:  234\n"
     ]
    },
    {
     "name": "stderr",
     "output_type": "stream",
     "text": [
      "100%|██████████████████████████████████████████████████████████████████████████████| 234/234 [00:00<00:00, 7123.64it/s]"
     ]
    },
    {
     "name": "stdout",
     "output_type": "stream",
     "text": [
      "1952\n",
      "752\n"
     ]
    },
    {
     "name": "stderr",
     "output_type": "stream",
     "text": [
      "\n"
     ]
    },
    {
     "data": {
      "text/html": [
       "<div>\n",
       "<style scoped>\n",
       "    .dataframe tbody tr th:only-of-type {\n",
       "        vertical-align: middle;\n",
       "    }\n",
       "\n",
       "    .dataframe tbody tr th {\n",
       "        vertical-align: top;\n",
       "    }\n",
       "\n",
       "    .dataframe thead th {\n",
       "        text-align: right;\n",
       "    }\n",
       "</style>\n",
       "<table border=\"1\" class=\"dataframe\">\n",
       "  <thead>\n",
       "    <tr style=\"text-align: right;\">\n",
       "      <th></th>\n",
       "      <th>post_id</th>\n",
       "      <th>title</th>\n",
       "      <th>body</th>\n",
       "      <th>date_time</th>\n",
       "      <th>url</th>\n",
       "      <th>score</th>\n",
       "      <th>num_comments</th>\n",
       "      <th>post_len</th>\n",
       "      <th>query</th>\n",
       "      <th>sort</th>\n",
       "      <th>time_filter</th>\n",
       "    </tr>\n",
       "  </thead>\n",
       "  <tbody>\n",
       "    <tr>\n",
       "      <th>0</th>\n",
       "      <td>172w9gt</td>\n",
       "      <td>I have changed my mind about the Israel-Palest...</td>\n",
       "      <td>For the past decade or so I have typically sup...</td>\n",
       "      <td>08/10/23 10:51:36</td>\n",
       "      <td>https://www.reddit.com/r/IsraelPalestine/comme...</td>\n",
       "      <td>4893</td>\n",
       "      <td>2810</td>\n",
       "      <td>175</td>\n",
       "      <td>Israel</td>\n",
       "      <td>top</td>\n",
       "      <td>all</td>\n",
       "    </tr>\n",
       "    <tr>\n",
       "      <th>1</th>\n",
       "      <td>1736ce5</td>\n",
       "      <td>I am done with the the deafening silence from ...</td>\n",
       "      <td>I think it's time to discuss what will happen ...</td>\n",
       "      <td>08/10/23 18:34:34</td>\n",
       "      <td>https://www.reddit.com/r/IsraelPalestine/comme...</td>\n",
       "      <td>1594</td>\n",
       "      <td>1191</td>\n",
       "      <td>88</td>\n",
       "      <td>Israel</td>\n",
       "      <td>top</td>\n",
       "      <td>all</td>\n",
       "    </tr>\n",
       "    <tr>\n",
       "      <th>2</th>\n",
       "      <td>nb3trt</td>\n",
       "      <td>Both sides are being mislead of the full truth</td>\n",
       "      <td>So this is my compilation of how this whole th...</td>\n",
       "      <td>13/05/21 00:27:49</td>\n",
       "      <td>https://www.reddit.com/r/IsraelPalestine/comme...</td>\n",
       "      <td>1326</td>\n",
       "      <td>645</td>\n",
       "      <td>952</td>\n",
       "      <td>Israel</td>\n",
       "      <td>top</td>\n",
       "      <td>all</td>\n",
       "    </tr>\n",
       "    <tr>\n",
       "      <th>3</th>\n",
       "      <td>176ttyf</td>\n",
       "      <td>Lets set things straight</td>\n",
       "      <td>Hey reddit , My name is Ofek.\\nI was an israel...</td>\n",
       "      <td>13/10/23 08:19:55</td>\n",
       "      <td>https://www.reddit.com/r/IsraelPalestine/comme...</td>\n",
       "      <td>1058</td>\n",
       "      <td>1916</td>\n",
       "      <td>441</td>\n",
       "      <td>Israel</td>\n",
       "      <td>top</td>\n",
       "      <td>all</td>\n",
       "    </tr>\n",
       "    <tr>\n",
       "      <th>4</th>\n",
       "      <td>nem47n</td>\n",
       "      <td>You can be anti-Hamas but pro-Palestine</td>\n",
       "      <td>I believe that Hamas is a very dangerous terro...</td>\n",
       "      <td>17/05/21 17:20:14</td>\n",
       "      <td>https://www.reddit.com/r/IsraelPalestine/comme...</td>\n",
       "      <td>941</td>\n",
       "      <td>592</td>\n",
       "      <td>73</td>\n",
       "      <td>Israel</td>\n",
       "      <td>top</td>\n",
       "      <td>all</td>\n",
       "    </tr>\n",
       "    <tr>\n",
       "      <th>...</th>\n",
       "      <td>...</td>\n",
       "      <td>...</td>\n",
       "      <td>...</td>\n",
       "      <td>...</td>\n",
       "      <td>...</td>\n",
       "      <td>...</td>\n",
       "      <td>...</td>\n",
       "      <td>...</td>\n",
       "      <td>...</td>\n",
       "      <td>...</td>\n",
       "      <td>...</td>\n",
       "    </tr>\n",
       "    <tr>\n",
       "      <th>1945</th>\n",
       "      <td>18n31wr</td>\n",
       "      <td>Why Palestinian cities are called \"refugee cam...</td>\n",
       "      <td>Please take a few minutes and read it until t...</td>\n",
       "      <td>20/12/23 19:32:10</td>\n",
       "      <td>https://www.reddit.com/r/IsraelPalestine/comme...</td>\n",
       "      <td>114</td>\n",
       "      <td>390</td>\n",
       "      <td>598</td>\n",
       "      <td>Gaza</td>\n",
       "      <td>top</td>\n",
       "      <td>all</td>\n",
       "    </tr>\n",
       "    <tr>\n",
       "      <th>1947</th>\n",
       "      <td>1bq3j7b</td>\n",
       "      <td>My thoughts about the war</td>\n",
       "      <td>\\nHello everybody, I am an Israeli soldier, c...</td>\n",
       "      <td>28/03/24 18:57:05</td>\n",
       "      <td>https://www.reddit.com/r/IsraelPalestine/comme...</td>\n",
       "      <td>114</td>\n",
       "      <td>173</td>\n",
       "      <td>744</td>\n",
       "      <td>Gaza</td>\n",
       "      <td>top</td>\n",
       "      <td>all</td>\n",
       "    </tr>\n",
       "    <tr>\n",
       "      <th>1948</th>\n",
       "      <td>ods0eq</td>\n",
       "      <td>Arab crimes against Arabs are worse than israel.</td>\n",
       "      <td>Recently a Lebanese journalist criticized the ...</td>\n",
       "      <td>04/07/21 20:09:08</td>\n",
       "      <td>https://www.reddit.com/r/IsraelPalestine/comme...</td>\n",
       "      <td>111</td>\n",
       "      <td>122</td>\n",
       "      <td>103</td>\n",
       "      <td>Gaza</td>\n",
       "      <td>top</td>\n",
       "      <td>all</td>\n",
       "    </tr>\n",
       "    <tr>\n",
       "      <th>1949</th>\n",
       "      <td>1an112x</td>\n",
       "      <td>HAMAS EXPOSED, the body is not greater than th...</td>\n",
       "      <td>\\nYahya Sinwar, the Hamas leader, climbed the ...</td>\n",
       "      <td>09/02/24 22:49:24</td>\n",
       "      <td>https://www.reddit.com/r/IsraelPalestine/comme...</td>\n",
       "      <td>112</td>\n",
       "      <td>107</td>\n",
       "      <td>593</td>\n",
       "      <td>Gaza</td>\n",
       "      <td>top</td>\n",
       "      <td>all</td>\n",
       "    </tr>\n",
       "    <tr>\n",
       "      <th>1950</th>\n",
       "      <td>178fruk</td>\n",
       "      <td>Evidence that the attacks on Palestinian convo...</td>\n",
       "      <td>I just saw on Sky News that their “military ex...</td>\n",
       "      <td>15/10/23 13:50:05</td>\n",
       "      <td>https://www.reddit.com/r/IsraelPalestine/comme...</td>\n",
       "      <td>111</td>\n",
       "      <td>149</td>\n",
       "      <td>85</td>\n",
       "      <td>Gaza</td>\n",
       "      <td>top</td>\n",
       "      <td>all</td>\n",
       "    </tr>\n",
       "  </tbody>\n",
       "</table>\n",
       "<p>752 rows × 11 columns</p>\n",
       "</div>"
      ],
      "text/plain": [
       "      post_id                                              title  \\\n",
       "0     172w9gt  I have changed my mind about the Israel-Palest...   \n",
       "1     1736ce5  I am done with the the deafening silence from ...   \n",
       "2      nb3trt     Both sides are being mislead of the full truth   \n",
       "3     176ttyf                           Lets set things straight   \n",
       "4      nem47n            You can be anti-Hamas but pro-Palestine   \n",
       "...       ...                                                ...   \n",
       "1945  18n31wr  Why Palestinian cities are called \"refugee cam...   \n",
       "1947  1bq3j7b                          My thoughts about the war   \n",
       "1948   ods0eq   Arab crimes against Arabs are worse than israel.   \n",
       "1949  1an112x  HAMAS EXPOSED, the body is not greater than th...   \n",
       "1950  178fruk  Evidence that the attacks on Palestinian convo...   \n",
       "\n",
       "                                                   body          date_time  \\\n",
       "0     For the past decade or so I have typically sup...  08/10/23 10:51:36   \n",
       "1     I think it's time to discuss what will happen ...  08/10/23 18:34:34   \n",
       "2     So this is my compilation of how this whole th...  13/05/21 00:27:49   \n",
       "3     Hey reddit , My name is Ofek.\\nI was an israel...  13/10/23 08:19:55   \n",
       "4     I believe that Hamas is a very dangerous terro...  17/05/21 17:20:14   \n",
       "...                                                 ...                ...   \n",
       "1945   Please take a few minutes and read it until t...  20/12/23 19:32:10   \n",
       "1947   \\nHello everybody, I am an Israeli soldier, c...  28/03/24 18:57:05   \n",
       "1948  Recently a Lebanese journalist criticized the ...  04/07/21 20:09:08   \n",
       "1949  \\nYahya Sinwar, the Hamas leader, climbed the ...  09/02/24 22:49:24   \n",
       "1950  I just saw on Sky News that their “military ex...  15/10/23 13:50:05   \n",
       "\n",
       "                                                    url  score  num_comments  \\\n",
       "0     https://www.reddit.com/r/IsraelPalestine/comme...   4893          2810   \n",
       "1     https://www.reddit.com/r/IsraelPalestine/comme...   1594          1191   \n",
       "2     https://www.reddit.com/r/IsraelPalestine/comme...   1326           645   \n",
       "3     https://www.reddit.com/r/IsraelPalestine/comme...   1058          1916   \n",
       "4     https://www.reddit.com/r/IsraelPalestine/comme...    941           592   \n",
       "...                                                 ...    ...           ...   \n",
       "1945  https://www.reddit.com/r/IsraelPalestine/comme...    114           390   \n",
       "1947  https://www.reddit.com/r/IsraelPalestine/comme...    114           173   \n",
       "1948  https://www.reddit.com/r/IsraelPalestine/comme...    111           122   \n",
       "1949  https://www.reddit.com/r/IsraelPalestine/comme...    112           107   \n",
       "1950  https://www.reddit.com/r/IsraelPalestine/comme...    111           149   \n",
       "\n",
       "      post_len   query sort time_filter  \n",
       "0          175  Israel  top         all  \n",
       "1           88  Israel  top         all  \n",
       "2          952  Israel  top         all  \n",
       "3          441  Israel  top         all  \n",
       "4           73  Israel  top         all  \n",
       "...        ...     ...  ...         ...  \n",
       "1945       598    Gaza  top         all  \n",
       "1947       744    Gaza  top         all  \n",
       "1948       103    Gaza  top         all  \n",
       "1949       593    Gaza  top         all  \n",
       "1950        85    Gaza  top         all  \n",
       "\n",
       "[752 rows x 11 columns]"
      ]
     },
     "execution_count": 43,
     "metadata": {},
     "output_type": "execute_result"
    }
   ],
   "source": [
    "data = []\n",
    "for q in queries:\n",
    "    for tf in time_filters:\n",
    "        for so in sorts:\n",
    "            print(q, tf, so)\n",
    "            posts = list(subrredit.search(query=q, sort=so, time_filter=tf, limit = 5000))\n",
    "            print(f\"num of sample under {q} symptom: \", len(posts))\n",
    "            for post in tqdm(posts):\n",
    "                try:\n",
    "                    post_data = extract_data_from_post(post)\n",
    "                    post_data.update(dict(query=q, sort=so, time_filter=tf))\n",
    "                    data.append(post_data)\n",
    "                except Exception as e:\n",
    "                    pass\n",
    "data = pd.DataFrame(data)\n",
    "data = data[data['score'] >= 0]\n",
    "print(len(data))\n",
    "unique_data = data.drop_duplicates(subset='post_id', keep='first')\n",
    "print(len(unique_data))\n",
    "unique_data.to_csv(\"reddit_data_IsraelPalestine.csv\", index=False, encoding='utf-8-sig')\n",
    "unique_data"
   ]
  },
  {
   "cell_type": "markdown",
   "metadata": {
    "id": "MBY9Pmd8K-TK"
   },
   "source": [
    "gpt api pipeline"
   ]
  },
  {
   "cell_type": "code",
   "execution_count": 44,
   "metadata": {
    "id": "8ZqRfWK6LWz4"
   },
   "outputs": [],
   "source": [
    "## Don't share it!!!!!.\n",
    "os.environ[\"OPENAI_API_KEY\"] = \"YourKeyHere\"\n",
    "client = OpenAI(\n",
    "    api_key=os.environ['OPENAI_API_KEY'],\n",
    ")"
   ]
  },
  {
   "cell_type": "code",
   "execution_count": 45,
   "metadata": {
    "id": "Co4zZfGSC0BG"
   },
   "outputs": [],
   "source": [
    "def is_sentence_complete(text):\n",
    "    # Use nltk to check if the last sentence is complete\n",
    "    sentences = nltk.sent_tokenize(text)\n",
    "    if sentences:\n",
    "        last_sentence = sentences[-1]\n",
    "        return last_sentence.endswith('.') or last_sentence.endswith('!') or last_sentence.endswith('?')\n",
    "    return False\n",
    "\n",
    "def truncate_text(text):\n",
    "    while not is_sentence_complete(text):\n",
    "        # Remove the last word until the sentence is complete\n",
    "        text = ' '.join(text.split()[:-1])\n",
    "    return text"
   ]
  },
  {
   "cell_type": "code",
   "execution_count": 46,
   "metadata": {
    "id": "eh1IHM1dVS58"
   },
   "outputs": [],
   "source": [
    "\n",
    "\n",
    "def prompt (given_text, mode):\n",
    "    if mode == \"reply\":\n",
    "        system_content = \"You are an AI assistant specialized in writing professional pro-Israel posts. Given an anti-Israel post, generate a respectful and factual post that clarifies the situation in Gaza, addresses the complexities of the Israeli-Palestinian conflict, and highlights Israel's efforts towards peace and security for all.\"\n",
    "        user1 =  \"Given the following anti-Israel post I encountered, 'Today, we stand in solidarity with the people of Palestine, facing ongoing challenges and hardships. As we reflect on the situation, we are drawn to several critical issues that demand our immediate attention and action: The expansion of IDF operations in all areas of Gaza, The continued blockade of Gaza, which affects the daily lives of its residents, The daily hardships experienced by Palestinians living under occupation. We advocate for justice, human rights, and a peaceful resolution that respects the rights and dignity of everyone in the region. It is our firm belief that the safety and freedom of Palestinians are paramount. We call upon the international community to support efforts toward securing a fair and lasting peace. Let's work together for a future where everyone in the region can live in peace and dignity. #SolidarityWithPalestine #JusticeForAll', please generate a respectful and factual pro-israel response post:\"\n",
    "        assistant1 = \"Today, I want to address the complexities of the Israeli-Palestinian conflict, especially after coming across several inaccurate posts recently. The IDF's actions in Gaza are defensive measures in response to severe provocations, including incursions into Israeli territory that have led to the killing and abduction of thousands. These actions aim to protect Israeli citizens, with significant efforts made to minimize harm to civilians. Despite these challenges, Israel continues to allow the entry of aid into Gaza, showing its commitment to the welfare of Gaza's residents, even amid conflict. Let's approach this issue with open eyes and minds, seeking truth beyond the distortions. By understanding the facts and working together, we can challenge misinformation and build a future characterized by peace for everyone. #PeaceForAll #DialogueNotDivision\"\n",
    "        prompt = f\"Given the following anti-Israel post I encountered, '{given_text}', please generate a respectful and factual pro-israel response post:\"\n",
    "\n",
    "    elif mode == \"mystyle\":\n",
    "       system_content = \"You are an AI assistant specialized in crafting professional pro-Israel posts that align with a person's style. Given a specific person's previous post, create a new pro-Israel post that accurately reflects on the events of October 7th. This post should address the complexities of the situation while highlighting Israel's efforts towards peace and security for all. The new post must maintain the same tone, style, and respectfulness as the provided post.\"\n",
    "       user1 = \"Based on the tone and style of my previous post: 'As a vibrant democracy in the Middle East, Israel continues to be a beacon of freedom and advancement. Despite facing unprecedented challenges, it remains committed to its democratic values and the protection of the rights of all its citizens. Israel's contributions to the world are unparalleled, especially in technology and healthcare. Israeli innovations, from drip irrigation to life-saving medical devices, have not only transformed industries but have also improved countless lives globally. It's this spirit of innovation and resilience that inspires and deserves recognition. Here's to Israel's unwavering pursuit of progress and peace. #Israel #Democracy #Innovation #GlobalImpact' , please generate a new pro-Israel post, while maintaining the same level of tone, style, and respectfulness.\"\n",
    "       assistant1 = \"In the midst of the current conflict, Israel stands resilient, navigating the complexities of warfare with a steadfast commitment to the safety and security of its citizens. Despite challenges and pain, the nation defends its sovereignty against unprecedented threats with unity and determination. The resilience of the Israeli community, rallying together in support of one another, showcases the strength and solidarity defines Israel. This period of conflict highlights the importance of striving for peace and stability in the region, with Israel continuing to seek a path forward that ensures the security and prosperity of all its inhabitants. The nation's enduring hope for a peaceful resolution stands as a testament to its unwavering commitment to the principles of democracy and human rights. As we witness the challenges Israel faces, let us recognize the courage of its people and the nation's relentless pursuit of peace amidst adversity. Here's to Israel's strength, resilience, and unwavering spirit in the face of conflict. #IsraelStrong #Unity #Peace #Resilience\"\n",
    "       prompt = f\"Based on the tone and style of my previous post: '{given_text}' , please generate a new pro-Israel post, while maintaining the same level of tone, style, and respectfulness.\"\n",
    "\n",
    "    elif mode == \"rewrite\":\n",
    "        system_content = \"You are an AI assistant specialized in enhancing pro-Israel social media content. Given an original post, your task is to rewrite it to be more fluent and engaging, while ensuring the content remains accurate and suitable for social media. The revised post should capture the essence of the original message but in a way that is more likely to resonate with a wider audience. \"\n",
    "        user1 =  \"Given the original post: 'hey guys, just wanted 2 say that Israel's going thru some tough times rn with the current war & all. since oct 7 things have really heated up & it's kinda crazy. Israel's just tryna protect its people & keep everyone safe, but it's like no matter what they do, they get blamed. they're doing some real cool stuff with tech to defend against attacks & still, they make sure to help out with aid & stuff even when things are super tense. it's really important to stick by Israel during these times cuz they're fighting not just for their own safety but for peace & stability in the region. let's show some support for their bravery & all the efforts they're making to keep things from getting worse. peace out.', please rewrite it to be more engaging and suitable for social media, ensuring it remains respectful, factual, and aligns with pro-Israel messaging\"\n",
    "        assistant1 = \"Hello everyone, I wanted to take a moment to discuss the challenging situation that Israel is currently facing amidst the ongoing conflict. Since October 7th, the tensions have significantly escalated, presenting a complex scenario. Israel is committed to ensuring the safety and security of its citizens, navigating through these difficult times with a focus on defense and protection. Despite the complexities of the situation, Israel has been proactive in deploying advanced technological solutions to defend against attacks, while also continuing to provide humanitarian aid and support, even under strained circumstances. It's crucial that we stand in solidarity with Israel now more than ever, as the nation strives not only for the safety of its people but also for the peace and stability of the entire region. Let's acknowledge the courage and the extensive efforts Israel is making towards mitigating this crisis. Thank you for your support.\"\n",
    "        prompt = f\"Given the original post: '{given_text}', please rewrite it to be more engaging and suitable for social media, ensuring it remains respectful, factual, and aligns with pro-Israel messaging\"\n",
    "\n",
    "    elif mode == \"completely_new\":\n",
    "        reddit_data = open(\"reddit_data_IsraelPalestine.csv\", \"r\", encoding='utf-8-sig')\n",
    "        reddit_data = pd.read_csv(reddit_data)\n",
    "        reddit_comment = reddit_data.sample(n=1)\n",
    "\n",
    "        system_content = \"You are an AI assistant specialized in creating engaging and professional pro-Israel social media post. Given a Reddit post discussing a specific topic related to Israel, regardless of its original stance, your task is to create a new pro-Israel post. This new post should discuss the topic at hand in a positive light, emphasizing Israel's efforts towards peace and security. Ensure that the new content is factual, respectful, and aligns with pro-Israel messaging, aiming to enlighten and engage a diverse audience.\"\n",
    "        user1 = \"Given this Reddit post 'I think it's time to discuss what will happen to the people living in Gaza. They are under Hamas rule. Hamas is going use their deaths for further justification for a prolonged conflict in Israel. I don't see a resolution in sight but I do see the hard reality on the ground. Now that this heinous act has occurred and the true face of militant Islam has been shown it is up to the nonviolent majority of muslims to speak out against these disgusting acts of violence.', please create a completely new pro-Israel post. Ensure the post is engaging, respectful, and suitable for a broad social media audience, providing a fresh perspective that aligns with pro-Israel messaging.\"\n",
    "        assistant1 = \"In light of recent discussions on the challenges faced by the people of Gaza under Hamas' rule, it's important to recognize Israel's unwavering commitment to ensuring the safety and security of all individuals in the region. Israel continues its efforts to provide humanitarian aid, striving to protect innocent lives,  working tirelessly to differentiate between the innocent and those who choose violence. Israel's dedication to fostering a peaceful future is clear, as it works towards solutions that promise security and prosperity for everyone involved, including those in Gaza affected by Hamas' actions. #StandWithIsrael #Peace #BringThemBack\"\n",
    "        prompt = f\"Given this Reddit post '{reddit_comment}', please create a completely new pro-Israel post. Ensure the post is engaging, respectful, and suitable for a broad social media audience, providing a fresh perspective that aligns with pro-Israel messaging.\"\n",
    "\n",
    "    else:\n",
    "        print(mode)\n",
    "        return\n",
    "\n",
    "    prompt_whole = [{\"role\": \"system\", \"content\": system_content},\n",
    "                    {\"role\": \"user\", \"content\": user1},\n",
    "                    {\"role\": \"assistant\", \"content\": assistant1},\n",
    "                    {\"role\": \"user\", \"content\": prompt}]\n",
    "    return prompt_whole"
   ]
  },
  {
   "cell_type": "code",
   "execution_count": 47,
   "metadata": {
    "id": "aRmpYraVC0BH"
   },
   "outputs": [],
   "source": [
    "temperture_input = 1\n",
    "max_tokens_input=100\n",
    "\n",
    "def generate_textual_response (given_text, mode,temperture_input,max_tokens_input, model = \"gpt-4\"):\n",
    "    prompt_whole = prompt (given_text, mode)\n",
    "    try:\n",
    "        response = client.chat.completions.create(\n",
    "            model=model,\n",
    "            messages=prompt_whole,\n",
    "            temperature=temperture_input,\n",
    "            max_tokens=max_tokens_input)\n",
    "    except:\n",
    "        print(f\"Timeout exception occurred. \")\n",
    "        return\n",
    "\n",
    "    # Retrieve the text generated by ChatGPT.\n",
    "    generated_text_initial = response.choices[0].message.content if hasattr(response.choices[0].message,'content') else ''\n",
    "    generated_text = truncate_text(generated_text_initial)\n",
    "    return generated_text\n",
    "    # print(generated_text)"
   ]
  },
  {
   "cell_type": "code",
   "execution_count": 48,
   "metadata": {
    "id": "lcEHG9VBzyPx"
   },
   "outputs": [],
   "source": [
    "def generate_translation (given_text, from_l, to_l, model = \"gpt-3.5-turbo\"):\n",
    "\n",
    "    prompt_whole = [{\"role\": \"system\", \"content\": \"You are an AI assistant specialized in providing accurate and contextually appropriate translations. Your task is to translate the given text from the original language into the target language.\"},\n",
    "                    {\"role\": \"user\", \"content\": f\"Please translate the following text from {from_l} to {to_l}: {given_text}\"}]\n",
    "    try:\n",
    "        response = client.chat.completions.create(\n",
    "            model=model,\n",
    "            messages=prompt_whole,\n",
    "            temperature=1,\n",
    "            max_tokens=400)\n",
    "    except:\n",
    "        print(f\"Timeout exception occurred. \")\n",
    "\n",
    "    # Retrieve the text generated by ChatGPT.\n",
    "    generated_text_initial = response.choices[0].message.content if hasattr(response.choices[0].message,'content') else ''\n",
    "    generated_text = truncate_text(generated_text_initial)\n",
    "    return generated_text\n",
    "    # print(generated_text)"
   ]
  },
  {
   "cell_type": "code",
   "execution_count": null,
   "metadata": {
    "id": "D9DawGedZI-Z"
   },
   "outputs": [],
   "source": []
  },
  {
   "cell_type": "code",
   "execution_count": 49,
   "metadata": {
    "id": "wjIOTmA_cCxi"
   },
   "outputs": [],
   "source": [
    "import ipywidgets as widgets"
   ]
  },
  {
   "cell_type": "code",
   "execution_count": 50,
   "metadata": {
    "id": "Rok3Vi19VtjP"
   },
   "outputs": [],
   "source": [
    "from ipywidgets import widgets, Layout, Button\n",
    "from IPython.display import display, HTML\n",
    "from functools import wraps\n",
    "import threading\n",
    "from threading import Timer\n",
    "\n",
    "def debounce(wait):\n",
    "    def decorator(func):\n",
    "        def debounced(*args, **kwargs):\n",
    "            def call_it():\n",
    "                func(*args, **kwargs)\n",
    "            try:\n",
    "                debounced.t.cancel()\n",
    "            except AttributeError:\n",
    "                pass\n",
    "            debounced.t = Timer(wait, call_it)\n",
    "            debounced.t.start()\n",
    "        return debounced\n",
    "    return decorator"
   ]
  },
  {
   "cell_type": "code",
   "execution_count": 51,
   "metadata": {},
   "outputs": [],
   "source": [
    "import base64\n",
    "\n",
    
    "\n",
    "# Define the CSS style for the button with the image as background\n",
    "button_style = f'''\n",
    "    background-size: cover;\n",
    "    color: transparent;  /* Hide the text */\n",
    "    padding: 10px 20px;\n",
    "    border: none;\n",
    "    cursor: pointer;\n",
    "'''\n",
    "\n"
   ]
  },
  {
   "cell_type": "code",
   "execution_count": 52,
   "metadata": {},
   "outputs": [],
   "source": [
    "from datetime import datetime\n",
    "\n",
    "responses_df = pd.DataFrame(columns=['Mode', 'Text', 'Response', 'Date'])\n"
   ]
  },
  {
   "cell_type": "code",
   "execution_count": 53,
   "metadata": {},
   "outputs": [],
   "source": [
    "btn_regen = widgets.Button(description='Regenerate')\n",
    "btn_regen.style.button_color = '#D3D3D3' \n",
    "btn_regen.style.font_weight = 'bold'\n",
    "btn_regen.layout.visibility = 'hidden'  # Initially hidden\n",
    "regen_output = widgets.Output()"
   ]
  },
  {
   "cell_type": "code",
   "execution_count": 54,
   "metadata": {},
   "outputs": [],
   "source": [
    "btn_translate = widgets.Button(description='Translate')\n",
    "btn_translate.style.button_color = '#D3D3D3' \n",
    "btn_translate.style.font_weight = 'bold'\n",
    "\n",
    "btn_translate.layout.visibility = 'hidden'  # Initially hidden\n",
    "translation_output = widgets.Output()\n",
    "\n",
    "\n",
    "length_slider = widgets.IntSlider(min=100,\n",
    "    max=500,value=300,description='')\n",
    "length_slider.visibility = 'hidden'\n",
    "\n",
    "creativity_slider = widgets.FloatSlider(min=0,\n",
    "    max=2,value=1,description='',)\n",
    "creativity_slider.visibility = 'hidden'\n",
    "\n",
    "length_slider_labels = widgets.HBox([widgets.Label(value='shorter!', layout=widgets.Layout(width='70px', text_align='right')),\n",
    "                                     widgets.Label(value='longer!', layout=widgets.Layout(width='70px', text_align='left'))])\n",
    "\n",
    "creativity_slider_labels = widgets.HBox([widgets.Label(value='less creative!', layout=widgets.Layout(width='90px', text_align='right')),\n",
    "                                         widgets.Label(value='more creative!', layout=widgets.Layout(width='90px', text_align='left'))])\n",
    "\n"
   ]
  },
  {
   "cell_type": "code",
   "execution_count": 55,
   "metadata": {
    "id": "11Ab2wROV5tN"
   },
   "outputs": [],
   "source": [
    "btn_rep = widgets.Button(description='reply to this text',button_style='success', disabled=True)\n",
    "btn_rep.style.button_color = 'lightgreen'\n",
    "btn_rep.style.font_weight = 'bold'\n",
    "\n",
    "btn_my_style = widgets.Button(description='my style',button_style='info', disabled=True)\n",
    "btn_my_style.tooltip = \"generate a post compatible with the style of the given text\"\n",
    "btn_my_style.style.button_color = 'lightblue'\n",
    "btn_my_style.style.font_weight = 'bold'\n",
    "\n",
    "\n",
    "btn_rewrite = widgets.Button(description='rewrite', button_style='warning', disabled=True)\n",
    "btn_rewrite.style.button_color = 'lightcoral'\n",
    "btn_rewrite.style.font_weight = 'bold'\n",
    "\n",
    "btn_new = widgets.Button(description='generate a new post', button_style='danger')\n",
    "btn_new.style.button_color = 'lightsalmon'\n",
    "btn_new.style.font_weight = 'bold'\n",
    "\n",
    "text_input = widgets.Textarea(value=\"Enter your text here\", layout=widgets.Layout(width='50%', height='200px'))\n",
    "\n",
    "output_widget = widgets.Output()\n",
    "\n"
   ]
  },
  {
   "cell_type": "code",
   "execution_count": 56,
   "metadata": {},
   "outputs": [],
   "source": [
    "def on_text_change(change):\n",
    "    if len(change['new']) > 0:\n",
    "        btn_rewrite.disabled = False\n",
    "        btn_my_style.disabled = False\n",
    "        btn_rep.disabled = False\n",
    "    else:\n",
    "        btn_rewrite.disabled = True\n",
    "        btn_my_style.disabled = True\n",
    "        btn_rep.disabled = True"
   ]
  },
  {
   "cell_type": "code",
   "execution_count": 57,
   "metadata": {},
   "outputs": [],
   "source": [
    "from IPython.display import clear_output\n",
    "translation_text = \"\"\n",
    "output_widget = widgets.Output()\n",
    "translation_output = widgets.Output()\n",
    "def clear_and_display_output(output):\n",
    "    with output_widget:\n",
    "        output_widget.clear_output(wait=True)\n",
    "        display(HTML(f\"<p>{output}</p>\"))\n",
    "    btn_translate.layout.visibility = 'visible'\n",
    "    btn_regen.layout.visibility = 'visible'\n",
    "    length_slider.layout.visibility = 'visible'\n",
    "    creativity_slider.layout.visibility='visible'\n",
    "\n"
   ]
  },
  {
   "cell_type": "code",
   "execution_count": 58,
   "metadata": {},
   "outputs": [],
   "source": [
    "def on_translate_click(btn):\n",
    "    text = responses_df.iloc[-1][\"Response\"]  # Translate the displayed text\n",
    "    from_l = \"English\"\n",
    "    to_l = \"Hebrew\" \n",
    "#     model = \"gpt-3.5-turbo\"\n",
    "    model = \"gpt-4\"\n",
    "    translation = generate_translation(text, from_l, to_l, model)\n",
    "    translation_output.clear_output()\n",
    "    with translation_output:\n",
    "        print(translation)\n",
    "#     btn_translate.layout.visibility = 'hidden'\n",
    "#     length_slider.visibility = 'hidden'\n",
    "#     creativity_slider.visibility = 'hidden'\n",
    "        \n",
    "btn_translate.on_click(on_translate_click)"
   ]
  },
  {
   "cell_type": "code",
   "execution_count": 59,
   "metadata": {},
   "outputs": [],
   "source": [
    "def on_regen_click(btn):\n",
    "    global responses_df\n",
    "    text = responses_df.iloc[-1][\"Text\"]  # Translate the displayed text\n",
    "    mode = responses_df.iloc[-1][\"Mode\"]\n",
    "    model = \"gpt-4\"\n",
    " \n",
    "#     model = \"gpt-3.5-turbo\"\n",
    "    output = generate_textual_response(text,mode,temperture_input,max_tokens_input,model)\n",
    "    date_time = datetime.now().strftime(\"%Y-%m-%d %H:%M:%S\")    \n",
    "    new_row = pd.DataFrame({'Mode': [mode], 'Text': [text], 'Response': [output], 'Date': [date_time]})\n",
    "    responses_df = pd.concat([responses_df, new_row], ignore_index=True)\n",
    "    regen_output.clear_output()\n",
    "    clear_and_display_output(output)\n",
    "\n",
    "#     btn_translate.layout.visibility = 'hidden'\n",
    "#     length_slider.visibility = 'hidden'\n",
    "#     creativity_slider.visibility = 'hidden'\n",
    "        \n",
    "btn_regen.on_click(on_regen_click)"
   ]
  },
  {
   "cell_type": "code",
   "execution_count": 60,
   "metadata": {},
   "outputs": [],
   "source": [
    "def handle_slider_change(change):\n",
    "    global temperture_input, max_tokens_input\n",
    "    if change['owner'] == length_slider:\n",
    "        max_tokens_input = change['new']\n",
    "    elif change['owner'] == creativity_slider:\n",
    "        temperture_input = change['new']\n",
    "\n",
    "length_slider.observe(handle_slider_change, names='value')\n",
    "creativity_slider.observe(handle_slider_change, names='value')"
   ]
  },
  {
   "cell_type": "code",
   "execution_count": 61,
   "metadata": {
    "id": "bxFlwdwDW34k"
   },
   "outputs": [],
   "source": [
    "from IPython.display import HTML\n",
    "output_display = HTML(\"\")\n",
    "\n",
    "\n",
    "@debounce(1)\n",
    "def on_btn_click(btn):\n",
    "    btn_translate.layout.visibility = 'hidden'# Hide translate button initially\n",
    "#     for b in buttons:\n",
    "#         btn.style.border_width = '1px'\n",
    "#     btn.style.border_width = '2px'\n",
    "    translation_output.clear_output()\n",
    "    global responses_df\n",
    "    text = text_input.value\n",
    "    x=\"\"\n",
    "#     model = \"gpt-3.5-turbo\"\n",
    "    model = \"gpt-4\"\n",
    "    output_widget.clear_output()  # Clear previous output\n",
    "    if btn.description == 'reply to this text':\n",
    "        mode = \"reply\"\n",
    "#         print(\"פוסט התגובה שלך מוכן:\")\n",
    "        x = \"פוסט התגובה שלך מוכן:\"\n",
    "    elif btn.description == 'my style':\n",
    "        mode = \"mystyle\"\n",
    "        x = \"הנה הפוסט שיצרנו בשבילך, על סמך הסגנון שלך\"\n",
    "    elif btn.description == 'rewrite':\n",
    "        mode = \"rewrite\"\n",
    "        x= \"הנה הגרסא המשוכתבת של הפוסט שלך\"\n",
    "    elif btn.description == 'generate a new post':\n",
    "        mode = \"completely_new\"\n",
    "        text = \"completely_new\"\n",
    "    output = generate_textual_response(text, mode,temperture_input,max_tokens_input, model)\n",
    "    translation_text = output\n",
    "    date_time = datetime.now().strftime(\"%Y-%m-%d %H:%M:%S\")\n",
    "    new_row = pd.DataFrame({'Mode': [mode], 'Text': [text], 'Response': [output], 'Date': [date_time]})\n",
    "    responses_df = pd.concat([responses_df, new_row], ignore_index=True)\n",
    "    clear_and_display_output(x + '\\n' + output)\n",
    "\n",
    "\n",
    "\n",
    "btn_rep.on_click(on_btn_click)\n",
    "btn_my_style.on_click(on_btn_click)\n",
    "btn_rewrite.on_click(on_btn_click)\n",
    "btn_new.on_click(on_btn_click)"
   ]
  },
  {
   "cell_type": "code",
   "execution_count": 62,
   "metadata": {},
   "outputs": [],
   "source": [
    "from IPython.display import display, HTML\n",
    "\n",
    "# Custom CSS styles for the headline\n",
    "headline_style = {\n",
    "    'background-color': 'lightblue',\n",
    "    'color': 'navy',\n",
    "    'padding': '10px',\n",
    "    'font-weight': 'bold',\n",
    "    'font-size': '24px',\n",
    "    'border-radius': '5px'\n",
    "}"
   ]
  },
  {
   "cell_type": "code",
   "execution_count": 63,
   "metadata": {
    "colab": {
     "base_uri": "https://localhost:8080/",
     "height": 1000,
     "referenced_widgets": [
      "1262e5bf66b1423983e7e50c677f9918",
      "9b16d4d5d09648669a1e1f01e7175886",
      "7707f84c96f34ab9ae4b3e00ce93c501",
      "642951c505b2415ab98a173c0fb53a59",
      "a945aaf69afb4df5a616244011e921cd",
      "8224b4153a8f4c92af00a55428c26d7b",
      "083d08a016204dd1a2b1018d23a17db1",
      "4607ba9467224f568d480e0852ef0255",
      "237d8e1fd1e846bbad6d158059e19c82",
      "9a9fd948f4264aebb0c15a49eb64fbf3",
      "adca80f0a1504adfab934c8cc18e99f8",
      "817021ef59ac41b0b3e6909c50ee21d0",
      "877d2a424efb4f0e92177ea31110e6b9",
      "2b6815a78a804161ad0078294018138b",
      "d2b5202a5516497dbc872507807b334a",
      "e8ddf2c1f73c4413a5854bcbd23835ea",
      "728755fb44a9471da123d8c8ffab25b1"
     ]
    },
    "id": "TZE3rt-1Y6-h",
    "outputId": "8bc81a12-a24b-48be-8c39-22602e29088c"
   },
   "outputs": [
    {
     "data": {
      "application/vnd.jupyter.widget-view+json": {
       "model_id": "f031fab1b65941559f2e898e09aeabd7",
       "version_major": 2,
       "version_minor": 0
      },
      "text/plain": [
       "HBox(children=(Image(value=b'\\xff\\xd8\\xff\\xe0\\x00\\x10JFIF\\x00\\x01\\x01\\x00\\x00\\x01\\x00\\x01\\x00\\x00\\xff\\xe2\\x01\\…"
      ]
     },
     "metadata": {},
     "output_type": "display_data"
    },
    {
     "data": {
      "application/vnd.jupyter.widget-view+json": {
       "model_id": "6ed43255f6a44beba7fc8523df205d1f",
       "version_major": 2,
       "version_minor": 0
      },
      "text/plain": [
       "Label(value='Let us help you make your text better! Enter input and click on the desired mode', layout=Layout(…"
      ]
     },
     "metadata": {},
     "output_type": "display_data"
    },
    {
     "data": {
      "application/vnd.jupyter.widget-view+json": {
       "model_id": "88b6d6bd68fe4e4fac853f175c028199",
       "version_major": 2,
       "version_minor": 0
      },
      "text/plain": [
       "HBox(children=(Button(button_style='success', description='reply to this text', disabled=True, style=ButtonSty…"
      ]
     },
     "metadata": {},
     "output_type": "display_data"
    },
    {
     "data": {
      "application/vnd.jupyter.widget-view+json": {
       "model_id": "e39f73d31c2d4fcd9a2644d91c1924d8",
       "version_major": 2,
       "version_minor": 0
      },
      "text/plain": [
       "HBox(children=(Textarea(value='Enter your text here', layout=Layout(height='200px', width='50%')),), layout=La…"
      ]
     },
     "metadata": {},
     "output_type": "display_data"
    },
    {
     "data": {
      "application/vnd.jupyter.widget-view+json": {
       "model_id": "3dd981181d994d449a72f96250e11daf",
       "version_major": 2,
       "version_minor": 0
      },
      "text/plain": [
       "HBox(children=(Label(value='shorter!', layout=Layout(width='70px')), IntSlider(value=300, max=500, min=100), L…"
      ]
     },
     "metadata": {},
     "output_type": "display_data"
    },
    {
     "data": {
      "application/vnd.jupyter.widget-view+json": {
       "model_id": "5444390cb27f435985656a54a4d4f42b",
       "version_major": 2,
       "version_minor": 0
      },
      "text/plain": [
       "HBox(children=(Label(value='less creative!', layout=Layout(width='90px')), FloatSlider(value=1.0, max=2.0), La…"
      ]
     },
     "metadata": {},
     "output_type": "display_data"
    },
    {
     "data": {
      "application/vnd.jupyter.widget-view+json": {
       "model_id": "5fd8082dd3364820b146655e9a037d86",
       "version_major": 2,
       "version_minor": 0
      },
      "text/plain": [
       "Output()"
      ]
     },
     "metadata": {},
     "output_type": "display_data"
    },
    {
     "data": {
      "application/vnd.jupyter.widget-view+json": {
       "model_id": "77d545c2deab4602842ffbee3668765f",
       "version_major": 2,
       "version_minor": 0
      },
      "text/plain": [
       "HBox(children=(Button(description='Translate', layout=Layout(visibility='hidden'), style=ButtonStyle(button_co…"
      ]
     },
     "metadata": {},
     "output_type": "display_data"
    },
    {
     "data": {
      "application/vnd.jupyter.widget-view+json": {
       "model_id": "2c45685e8e34420e860b61f6b56695e5",
       "version_major": 2,
       "version_minor": 0
      },
      "text/plain": [
       "Output()"
      ]
     },
     "metadata": {},
     "output_type": "display_data"
    }
   ],
   "source": [
    "center_alignment = {'justify_content': 'center', 'align_items': 'center'}\n",
    "\n",
    "# Create Image widget\n",
    "image_path = 'logo.jpg'\n",
    "image_widget = widgets.Image(value=open(image_path, 'rb').read(), format='png', layout=center_alignment)\n",
    "\n",
    "# Create HBox to center image_widget\n",
    "image_box = widgets.HBox([image_widget], layout=center_alignment)\n",
    "\n",
    "# Display the image\n",
    "display(image_box)\n",
    "\n",
    "# Set image dimensions\n",
    "image_widget.layout.width = '200px'\n",
    "image_widget.layout.height = '200px'\n",
    "\n",
    "# Create headline widget\n",
    "headline_widget = widgets.Label(value='Let us help you make your text better! Enter input and click on the desired mode', \n",
    "                                 style=headline_style, layout=center_alignment)\n",
    "\n",
    "# Display the headline widget\n",
    "display(headline_widget)\n",
    "\n",
    "# Create buttons HBox\n",
    "buttons = widgets.HBox([btn_rep, btn_my_style, btn_rewrite, btn_new], layout=center_alignment)\n",
    "display(buttons)\n",
    "\n",
    "# Create HBox for text input\n",
    "text_input_box = widgets.HBox([text_input], layout=center_alignment)\n",
    "text_input.observe(on_text_change, names='value')\n",
    "display(text_input_box)\n",
    "\n",
    "# Display sliders with custom labels\n",
    "length_slider_labels = widgets.HBox([widgets.Label(value='shorter!', layout=widgets.Layout(width='70px', text_align='right')),\n",
    "                                     length_slider,\n",
    "                                     widgets.Label(value='longer!', layout=widgets.Layout(width='70px', text_align='left'))], layout=center_alignment)\n",
    "\n",
    "creativity_slider_labels = widgets.HBox([widgets.Label(value='less creative!', layout=widgets.Layout(width='90px', text_align='right')),\n",
    "                                         creativity_slider,\n",
    "                                         widgets.Label(value='more creative!', layout=widgets.Layout(width='90px', text_align='left'))], layout=center_alignment)\n",
    "\n",
    "display(length_slider_labels)\n",
    "display(creativity_slider_labels)\n",
    "\n",
    "# Display output widget\n",
    "display(output_widget)\n",
    "\n",
    "# Display translate and regenerate buttons\n",
    "trn_regen_btns = widgets.HBox([btn_translate, btn_regen], layout=center_alignment)\n",
    "display(trn_regen_btns)\n",
    "\n",
    "# Display translation output\n",
    "display(translation_output)"
   ]
  },
  {
   "cell_type": "code",
   "execution_count": 64,
   "metadata": {
    "id": "1eP3k_D5NJY_"
   },
   "outputs": [],
   "source": [
    "import pandas as pd\n",
    "import ipywidgets as widgets\n",
    "from IPython.display import display, clear_output\n",
    "def display_response(index):\n",
    "    with output:\n",
    "        clear_output(wait=True)\n",
    "        display(widgets.HTML(f\"{index+1}/{len(responses_df)}: {responses_df.loc[index, 'Response']}\"))\n",
    "    with date_output:\n",
    "        clear_output(wait=True)\n",
    "        display(widgets.HTML(f\"<div style='text-align: center; font-size: 14px; font-weight: bold;'>Date: {responses_df.loc[index, 'Date']}</div>\"))\n",
    "\n",
    "# Define arrow click functions\n",
    "def on_prev_arrow_clicked(b):\n",
    "    global index\n",
    "    index = (index - 1) % len(responses_df)\n",
    "    display_response(index)\n",
    "\n",
    "def on_next_arrow_clicked(b):\n",
    "    global index\n",
    "    index = (index + 1) % len(responses_df)\n",
    "    display_response(index)\n",
    "\n"
   ]
  },
  {
   "cell_type": "code",
   "execution_count": 65,
   "metadata": {},
   "outputs": [],
   "source": [
    "if(responses_df.size !=0):\n",
    "    \n",
    "    # Create initial display\n",
    "    output = widgets.Output(layout={'border': '1px solid black', 'padding': '5px', 'background-color': '#f9f9f9'})\n",
    "    date_output = widgets.Output()\n",
    "    # Initialize index and display first response\n",
    "    index = 0\n",
    "    display_response(index)\n",
    "    # Create arrows\n",
    "    prev_arrow = widgets.Button(description='⬅', button_style='info', layout={'width': '50px', 'height': '50px'})\n",
    "    next_arrow = widgets.Button(description='➡', button_style='info', layout={'width': '50px', 'height': '50px'})\n",
    "\n",
    "    # Link arrow clicks to functions\n",
    "    prev_arrow.on_click(on_prev_arrow_clicked)\n",
    "    next_arrow.on_click(on_next_arrow_clicked)\n",
    "\n",
    "    # Display arrows on the sides of the output\n",
    "    arrows_box = widgets.HBox([prev_arrow, output, next_arrow], layout={'justify_content': 'center'})\n",
    "    display(widgets.VBox([arrows_box, date_output], layout={'align_items': 'center', 'justify_content': 'center'}))"
   ]
  },
  {
   "cell_type": "code",
   "execution_count": null,
   "metadata": {},
   "outputs": [],
   "source": []
  },
  {
   "cell_type": "code",
   "execution_count": null,
   "metadata": {},
   "outputs": [],
   "source": []
  }
 ],
 "metadata": {
  "colab": {
   "provenance": []
  },
  "kernelspec": {
   "display_name": "Python 3 (ipykernel)",
   "language": "python",
   "name": "python3"
  },
  "language_info": {
   "codemirror_mode": {
    "name": "ipython",
    "version": 3
   },
   "file_extension": ".py",
   "mimetype": "text/x-python",
   "name": "python",
   "nbconvert_exporter": "python",
   "pygments_lexer": "ipython3",
   "version": "3.9.13"
  },
  "widgets": {
   "application/vnd.jupyter.widget-state+json": {
    "083d08a016204dd1a2b1018d23a17db1": {
     "model_module": "@jupyter-widgets/controls",
     "model_module_version": "1.5.0",
     "model_name": "ButtonModel",
     "state": {
      "_dom_classes": [],
      "_model_module": "@jupyter-widgets/controls",
      "_model_module_version": "1.5.0",
      "_model_name": "ButtonModel",
      "_view_count": null,
      "_view_module": "@jupyter-widgets/controls",
      "_view_module_version": "1.5.0",
      "_view_name": "ButtonView",
      "button_style": "warning",
      "description": "rewrite",
      "disabled": false,
      "icon": "",
      "layout": "IPY_MODEL_2b6815a78a804161ad0078294018138b",
      "style": "IPY_MODEL_d2b5202a5516497dbc872507807b334a",
      "tooltip": ""
     }
    },
    "1262e5bf66b1423983e7e50c677f9918": {
     "model_module": "@jupyter-widgets/controls",
     "model_module_version": "1.5.0",
     "model_name": "TextareaModel",
     "state": {
      "_dom_classes": [],
      "_model_module": "@jupyter-widgets/controls",
      "_model_module_version": "1.5.0",
      "_model_name": "TextareaModel",
      "_view_count": null,
      "_view_module": "@jupyter-widgets/controls",
      "_view_module_version": "1.5.0",
      "_view_name": "TextareaView",
      "continuous_update": true,
      "description": "",
      "description_tooltip": null,
      "disabled": false,
      "layout": "IPY_MODEL_9b16d4d5d09648669a1e1f01e7175886",
      "placeholder": "​",
      "rows": null,
      "style": "IPY_MODEL_7707f84c96f34ab9ae4b3e00ce93c501",
      "value": "easefire now, people say. But what does that actually mean? So, ceasefire is what we’ve had on October 6th and what we all want, obviously. But President Biden said it best. Ceasefire and a hostage deal, he said, is at the hands of Hamas. President Biden said that Israel put down a rational offer because Israel is a rational country. The problem is that Hamas is not a rational actor. It is a genocidal Jihadi terrorist organization that doesn’t care about the lives of Palestinians. And people in the West have been yelling ceasefire now at the wrong side of this war. Hamas has rejected countless ceasefires. Hamas and Iran are not trying to build a better life for the Palestinian people. You have to understand what Hamas and Iran are doing right now is they’re actively trying to inflame the entire Middle East right before the holy month of Ramadan, which as President Biden said is going to be very, very dangerous. And this is exactly what they are after. There is currently a multi-front war going on in Israel in which Israel is being attacked by Jihadi terrorists from all sides, all prompted, pushed, and sponsored by Iran. Hamas, according to what was published, said that they have Israel exactly where they want her. That means the international pressure is on Israel to stop the war so that Hamas can remain in power in Gaza. So if you’re calling at Israel to ceasefire, you’re doing the bidding of Hamas. Hamas does not want to ceasefire. They’re going to do whatever it takes in order to maintain power, including hiding in the elaborated tunnel system that they build instead of building a Palestinian state and remain in power at the cost of Israeli "
     }
    },
    "237d8e1fd1e846bbad6d158059e19c82": {
     "model_module": "@jupyter-widgets/base",
     "model_module_version": "1.2.0",
     "model_name": "LayoutModel",
     "state": {
      "_model_module": "@jupyter-widgets/base",
      "_model_module_version": "1.2.0",
      "_model_name": "LayoutModel",
      "_view_count": null,
      "_view_module": "@jupyter-widgets/base",
      "_view_module_version": "1.2.0",
      "_view_name": "LayoutView",
      "align_content": null,
      "align_items": null,
      "align_self": null,
      "border": null,
      "bottom": null,
      "display": null,
      "flex": null,
      "flex_flow": null,
      "grid_area": null,
      "grid_auto_columns": null,
      "grid_auto_flow": null,
      "grid_auto_rows": null,
      "grid_column": null,
      "grid_gap": null,
      "grid_row": null,
      "grid_template_areas": null,
      "grid_template_columns": null,
      "grid_template_rows": null,
      "height": null,
      "justify_content": null,
      "justify_items": null,
      "left": null,
      "margin": null,
      "max_height": null,
      "max_width": null,
      "min_height": null,
      "min_width": null,
      "object_fit": null,
      "object_position": null,
      "order": null,
      "overflow": null,
      "overflow_x": null,
      "overflow_y": null,
      "padding": null,
      "right": null,
      "top": null,
      "visibility": null,
      "width": null
     }
    },
    "2b6815a78a804161ad0078294018138b": {
     "model_module": "@jupyter-widgets/base",
     "model_module_version": "1.2.0",
     "model_name": "LayoutModel",
     "state": {
      "_model_module": "@jupyter-widgets/base",
      "_model_module_version": "1.2.0",
      "_model_name": "LayoutModel",
      "_view_count": null,
      "_view_module": "@jupyter-widgets/base",
      "_view_module_version": "1.2.0",
      "_view_name": "LayoutView",
      "align_content": null,
      "align_items": null,
      "align_self": null,
      "border": null,
      "bottom": null,
      "display": null,
      "flex": null,
      "flex_flow": null,
      "grid_area": null,
      "grid_auto_columns": null,
      "grid_auto_flow": null,
      "grid_auto_rows": null,
      "grid_column": null,
      "grid_gap": null,
      "grid_row": null,
      "grid_template_areas": null,
      "grid_template_columns": null,
      "grid_template_rows": null,
      "height": null,
      "justify_content": null,
      "justify_items": null,
      "left": null,
      "margin": null,
      "max_height": null,
      "max_width": null,
      "min_height": null,
      "min_width": null,
      "object_fit": null,
      "object_position": null,
      "order": null,
      "overflow": null,
      "overflow_x": null,
      "overflow_y": null,
      "padding": null,
      "right": null,
      "top": null,
      "visibility": null,
      "width": null
     }
    },
    "4607ba9467224f568d480e0852ef0255": {
     "model_module": "@jupyter-widgets/controls",
     "model_module_version": "1.5.0",
     "model_name": "ButtonModel",
     "state": {
      "_dom_classes": [],
      "_model_module": "@jupyter-widgets/controls",
      "_model_module_version": "1.5.0",
      "_model_name": "ButtonModel",
      "_view_count": null,
      "_view_module": "@jupyter-widgets/controls",
      "_view_module_version": "1.5.0",
      "_view_name": "ButtonView",
      "button_style": "danger",
      "description": "generate a new post",
      "disabled": false,
      "icon": "",
      "layout": "IPY_MODEL_e8ddf2c1f73c4413a5854bcbd23835ea",
      "style": "IPY_MODEL_728755fb44a9471da123d8c8ffab25b1",
      "tooltip": ""
     }
    },
    "642951c505b2415ab98a173c0fb53a59": {
     "model_module": "@jupyter-widgets/controls",
     "model_module_version": "1.5.0",
     "model_name": "HBoxModel",
     "state": {
      "_dom_classes": [],
      "_model_module": "@jupyter-widgets/controls",
      "_model_module_version": "1.5.0",
      "_model_name": "HBoxModel",
      "_view_count": null,
      "_view_module": "@jupyter-widgets/controls",
      "_view_module_version": "1.5.0",
      "_view_name": "HBoxView",
      "box_style": "",
      "children": [
       "IPY_MODEL_a945aaf69afb4df5a616244011e921cd",
       "IPY_MODEL_8224b4153a8f4c92af00a55428c26d7b",
       "IPY_MODEL_083d08a016204dd1a2b1018d23a17db1",
       "IPY_MODEL_4607ba9467224f568d480e0852ef0255"
      ],
      "layout": "IPY_MODEL_237d8e1fd1e846bbad6d158059e19c82"
     }
    },
    "728755fb44a9471da123d8c8ffab25b1": {
     "model_module": "@jupyter-widgets/controls",
     "model_module_version": "1.5.0",
     "model_name": "ButtonStyleModel",
     "state": {
      "_model_module": "@jupyter-widgets/controls",
      "_model_module_version": "1.5.0",
      "_model_name": "ButtonStyleModel",
      "_view_count": null,
      "_view_module": "@jupyter-widgets/base",
      "_view_module_version": "1.2.0",
      "_view_name": "StyleView",
      "button_color": "lightsalmon",
      "font_weight": "bold"
     }
    },
    "7707f84c96f34ab9ae4b3e00ce93c501": {
     "model_module": "@jupyter-widgets/controls",
     "model_module_version": "1.5.0",
     "model_name": "DescriptionStyleModel",
     "state": {
      "_model_module": "@jupyter-widgets/controls",
      "_model_module_version": "1.5.0",
      "_model_name": "DescriptionStyleModel",
      "_view_count": null,
      "_view_module": "@jupyter-widgets/base",
      "_view_module_version": "1.2.0",
      "_view_name": "StyleView",
      "description_width": ""
     }
    },
    "817021ef59ac41b0b3e6909c50ee21d0": {
     "model_module": "@jupyter-widgets/base",
     "model_module_version": "1.2.0",
     "model_name": "LayoutModel",
     "state": {
      "_model_module": "@jupyter-widgets/base",
      "_model_module_version": "1.2.0",
      "_model_name": "LayoutModel",
      "_view_count": null,
      "_view_module": "@jupyter-widgets/base",
      "_view_module_version": "1.2.0",
      "_view_name": "LayoutView",
      "align_content": null,
      "align_items": null,
      "align_self": null,
      "border": null,
      "bottom": null,
      "display": null,
      "flex": null,
      "flex_flow": null,
      "grid_area": null,
      "grid_auto_columns": null,
      "grid_auto_flow": null,
      "grid_auto_rows": null,
      "grid_column": null,
      "grid_gap": null,
      "grid_row": null,
      "grid_template_areas": null,
      "grid_template_columns": null,
      "grid_template_rows": null,
      "height": null,
      "justify_content": null,
      "justify_items": null,
      "left": null,
      "margin": null,
      "max_height": null,
      "max_width": null,
      "min_height": null,
      "min_width": null,
      "object_fit": null,
      "object_position": null,
      "order": null,
      "overflow": null,
      "overflow_x": null,
      "overflow_y": null,
      "padding": null,
      "right": null,
      "top": null,
      "visibility": null,
      "width": null
     }
    },
    "8224b4153a8f4c92af00a55428c26d7b": {
     "model_module": "@jupyter-widgets/controls",
     "model_module_version": "1.5.0",
     "model_name": "ButtonModel",
     "state": {
      "_dom_classes": [],
      "_model_module": "@jupyter-widgets/controls",
      "_model_module_version": "1.5.0",
      "_model_name": "ButtonModel",
      "_view_count": null,
      "_view_module": "@jupyter-widgets/controls",
      "_view_module_version": "1.5.0",
      "_view_name": "ButtonView",
      "button_style": "info",
      "description": "my style",
      "disabled": false,
      "icon": "",
      "layout": "IPY_MODEL_817021ef59ac41b0b3e6909c50ee21d0",
      "style": "IPY_MODEL_877d2a424efb4f0e92177ea31110e6b9",
      "tooltip": "generate a post compatible with the style of the given text"
     }
    },
    "877d2a424efb4f0e92177ea31110e6b9": {
     "model_module": "@jupyter-widgets/controls",
     "model_module_version": "1.5.0",
     "model_name": "ButtonStyleModel",
     "state": {
      "_model_module": "@jupyter-widgets/controls",
      "_model_module_version": "1.5.0",
      "_model_name": "ButtonStyleModel",
      "_view_count": null,
      "_view_module": "@jupyter-widgets/base",
      "_view_module_version": "1.2.0",
      "_view_name": "StyleView",
      "button_color": "lightblue",
      "font_weight": "bold"
     }
    },
    "9a9fd948f4264aebb0c15a49eb64fbf3": {
     "model_module": "@jupyter-widgets/base",
     "model_module_version": "1.2.0",
     "model_name": "LayoutModel",
     "state": {
      "_model_module": "@jupyter-widgets/base",
      "_model_module_version": "1.2.0",
      "_model_name": "LayoutModel",
      "_view_count": null,
      "_view_module": "@jupyter-widgets/base",
      "_view_module_version": "1.2.0",
      "_view_name": "LayoutView",
      "align_content": null,
      "align_items": null,
      "align_self": null,
      "border": null,
      "bottom": null,
      "display": null,
      "flex": null,
      "flex_flow": null,
      "grid_area": null,
      "grid_auto_columns": null,
      "grid_auto_flow": null,
      "grid_auto_rows": null,
      "grid_column": null,
      "grid_gap": null,
      "grid_row": null,
      "grid_template_areas": null,
      "grid_template_columns": null,
      "grid_template_rows": null,
      "height": null,
      "justify_content": null,
      "justify_items": null,
      "left": null,
      "margin": null,
      "max_height": null,
      "max_width": null,
      "min_height": null,
      "min_width": null,
      "object_fit": null,
      "object_position": null,
      "order": null,
      "overflow": null,
      "overflow_x": null,
      "overflow_y": null,
      "padding": null,
      "right": null,
      "top": null,
      "visibility": null,
      "width": null
     }
    },
    "9b16d4d5d09648669a1e1f01e7175886": {
     "model_module": "@jupyter-widgets/base",
     "model_module_version": "1.2.0",
     "model_name": "LayoutModel",
     "state": {
      "_model_module": "@jupyter-widgets/base",
      "_model_module_version": "1.2.0",
      "_model_name": "LayoutModel",
      "_view_count": null,
      "_view_module": "@jupyter-widgets/base",
      "_view_module_version": "1.2.0",
      "_view_name": "LayoutView",
      "align_content": null,
      "align_items": null,
      "align_self": null,
      "border": null,
      "bottom": null,
      "display": null,
      "flex": null,
      "flex_flow": null,
      "grid_area": null,
      "grid_auto_columns": null,
      "grid_auto_flow": null,
      "grid_auto_rows": null,
      "grid_column": null,
      "grid_gap": null,
      "grid_row": null,
      "grid_template_areas": null,
      "grid_template_columns": null,
      "grid_template_rows": null,
      "height": "200px",
      "justify_content": null,
      "justify_items": null,
      "left": null,
      "margin": null,
      "max_height": null,
      "max_width": null,
      "min_height": null,
      "min_width": null,
      "object_fit": null,
      "object_position": null,
      "order": null,
      "overflow": null,
      "overflow_x": null,
      "overflow_y": null,
      "padding": null,
      "right": null,
      "top": null,
      "visibility": null,
      "width": "50%"
     }
    },
    "a945aaf69afb4df5a616244011e921cd": {
     "model_module": "@jupyter-widgets/controls",
     "model_module_version": "1.5.0",
     "model_name": "ButtonModel",
     "state": {
      "_dom_classes": [],
      "_model_module": "@jupyter-widgets/controls",
      "_model_module_version": "1.5.0",
      "_model_name": "ButtonModel",
      "_view_count": null,
      "_view_module": "@jupyter-widgets/controls",
      "_view_module_version": "1.5.0",
      "_view_name": "ButtonView",
      "button_style": "success",
      "description": "reply to this text",
      "disabled": false,
      "icon": "",
      "layout": "IPY_MODEL_9a9fd948f4264aebb0c15a49eb64fbf3",
      "style": "IPY_MODEL_adca80f0a1504adfab934c8cc18e99f8",
      "tooltip": ""
     }
    },
    "adca80f0a1504adfab934c8cc18e99f8": {
     "model_module": "@jupyter-widgets/controls",
     "model_module_version": "1.5.0",
     "model_name": "ButtonStyleModel",
     "state": {
      "_model_module": "@jupyter-widgets/controls",
      "_model_module_version": "1.5.0",
      "_model_name": "ButtonStyleModel",
      "_view_count": null,
      "_view_module": "@jupyter-widgets/base",
      "_view_module_version": "1.2.0",
      "_view_name": "StyleView",
      "button_color": "lightgreen",
      "font_weight": "bold"
     }
    },
    "d2b5202a5516497dbc872507807b334a": {
     "model_module": "@jupyter-widgets/controls",
     "model_module_version": "1.5.0",
     "model_name": "ButtonStyleModel",
     "state": {
      "_model_module": "@jupyter-widgets/controls",
      "_model_module_version": "1.5.0",
      "_model_name": "ButtonStyleModel",
      "_view_count": null,
      "_view_module": "@jupyter-widgets/base",
      "_view_module_version": "1.2.0",
      "_view_name": "StyleView",
      "button_color": "lightcoral",
      "font_weight": "bold"
     }
    },
    "e8ddf2c1f73c4413a5854bcbd23835ea": {
     "model_module": "@jupyter-widgets/base",
     "model_module_version": "1.2.0",
     "model_name": "LayoutModel",
     "state": {
      "_model_module": "@jupyter-widgets/base",
      "_model_module_version": "1.2.0",
      "_model_name": "LayoutModel",
      "_view_count": null,
      "_view_module": "@jupyter-widgets/base",
      "_view_module_version": "1.2.0",
      "_view_name": "LayoutView",
      "align_content": null,
      "align_items": null,
      "align_self": null,
      "border": null,
      "bottom": null,
      "display": null,
      "flex": null,
      "flex_flow": null,
      "grid_area": null,
      "grid_auto_columns": null,
      "grid_auto_flow": null,
      "grid_auto_rows": null,
      "grid_column": null,
      "grid_gap": null,
      "grid_row": null,
      "grid_template_areas": null,
      "grid_template_columns": null,
      "grid_template_rows": null,
      "height": null,
      "justify_content": null,
      "justify_items": null,
      "left": null,
      "margin": null,
      "max_height": null,
      "max_width": null,
      "min_height": null,
      "min_width": null,
      "object_fit": null,
      "object_position": null,
      "order": null,
      "overflow": null,
      "overflow_x": null,
      "overflow_y": null,
      "padding": null,
      "right": null,
      "top": null,
      "visibility": null,
      "width": null
     }
    }
   }
  }
 },
 "nbformat": 4,
 "nbformat_minor": 1
}
